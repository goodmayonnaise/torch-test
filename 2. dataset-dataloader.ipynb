{
 "cells": [
  {
   "cell_type": "markdown",
   "metadata": {},
   "source": [
    "# Datasets과 Dataloader \n",
    "\n",
    "데이터 샘플을 처리하는 코드는 messy(지저분)하고 유지보수가 어려울 수 있다.</br>\n",
    "더 나은 가독성과 모듈성을 위해 데이터셋 코드를 모델 학습 코드로부터 분리하는 것이 이상적이다. </br>\n",
    "pytorch는 torch.utils.data.DataLoader와 torch.utils.data.Dataset의 두 가지 데이터 기본 요소를 제공하여 미리 준비된 데이터셋 뿐만 아니라 가지고 있는 데이터를 사용할 수 있도록 한다.</br>\n",
    "Dataset은 샘플과 라벨을 저장하고, DataLoader는 Dataset을 샘플에 쉽게 접근할 수 있도록 순회 가능한 객체(iterable)로 감싼다.</br>\n",
    "</br>\n",
    "pytorch의 도메인 특화 라이브러리들은 다양한 pre-loaded 데이터셋을 제공한다.</br>\n",
    "데이터셋은 torch.utils.data.Dataset의 하위 클래스로 개별 데이터를 특정하는 함수가 구현되어 있다.</br>\n",
    "이러한 데이터셋은 모델을 만들어보고(prototype) 성능을 측정(benchmark)하는데 사용할 수 있다.</br>"
   ]
  },
  {
   "cell_type": "code",
   "execution_count": 3,
   "metadata": {},
   "outputs": [],
   "source": [
    "import torch\n",
    "from torch.utils.data import Dataset\n",
    "from torchvision import datasets\n",
    "from torchvision.transforms import ToTensor\n",
    "import matplotlib.pyplot as plt"
   ]
  },
  {
   "cell_type": "markdown",
   "metadata": {},
   "source": [
    "# 데이터셋 불러오기\n",
    "torchvision에서 Fashion MNIST 데이터셋 불러오기\n",
    "\n",
    "train 60,000개 \n",
    "\n",
    "test 10,000개\n",
    "\n",
    "grayscale 28x28 \n",
    "\n",
    "10개 분류 중 하나인 label로 구성\n"
   ]
  },
  {
   "cell_type": "code",
   "execution_count": 4,
   "metadata": {},
   "outputs": [
    {
     "name": "stderr",
     "output_type": "stream",
     "text": [
      "C:\\Users\\JIYEON\\anaconda3\\envs\\torch\\lib\\site-packages\\torchvision\\datasets\\mnist.py:498: UserWarning: The given NumPy array is not writeable, and PyTorch does not support non-writeable tensors. This means you can write to the underlying (supposedly non-writeable) NumPy array using the tensor. You may want to copy the array to protect its data or make it writeable before converting it to a tensor. This type of warning will be suppressed for the rest of this program. (Triggered internally at  ..\\torch\\csrc\\utils\\tensor_numpy.cpp:180.)\n",
      "  return torch.from_numpy(parsed.astype(m[2], copy=False)).view(*s)\n"
     ]
    }
   ],
   "source": [
    "\n",
    "training_data = datasets.FashionMNIST(root=\"data\",\n",
    "train=True, download=True, transform=ToTensor())\n",
    "\n",
    "test_data = datasets.FashionMNIST(root=\"data\",\n",
    "train=False, download=True, transform=ToTensor())\n"
   ]
  },
  {
   "cell_type": "markdown",
   "metadata": {},
   "source": [
    "# 데이터셋 순회 & 시각화\n",
    "\n",
    "Dataset에 list처럼 직접 접근(index)할 수 있다->training_data[index]\n",
    "\n",
    "matplotlib를 사용해서 학습 데이터의 일부를 시각화해보자"
   ]
  },
  {
   "cell_type": "code",
   "execution_count": 9,
   "metadata": {},
   "outputs": [
    {
     "data": {
      "image/png": "[encoded data removed]",
      "text/plain": [
       "<Figure size 576x576 with 9 Axes>"
      ]
     },
     "metadata": {
      "needs_background": "light"
     },
     "output_type": "display_data"
    }
   ],
   "source": [
    "labels_map = {\n",
    "    0: \"T-Shirt\",\n",
    "    1: \"Trouser\",\n",
    "    2: \"Pullover\",\n",
    "    3: \"Dress\",\n",
    "    4: \"Coat\",\n",
    "    5: \"Sandal\",\n",
    "    6: \"Shirt\",\n",
    "    7: \"Sneaker\",\n",
    "    8: \"Bag\",\n",
    "    9: \"Ankle Boot\"\n",
    "}\n",
    "figure = plt.figure(figsize=(8,8))\n",
    "cols, rows = 3, 3\n",
    "\n",
    "for i in range(1, cols*rows+1):\n",
    "    sample_idx = torch.randint(len(training_data), size=(1,)).item()\n",
    "    # print(sample_idx)\n",
    "\n",
    "    img, label = training_data[sample_idx]\n",
    "    figure.add_subplot(rows, cols, i)\n",
    "    plt.title(labels_map[label])\n",
    "    plt.axis(\"off\")\n",
    "    plt.imshow(img.squeeze(), cmap='gray')\n",
    "\n",
    "plt.show()\n"
   ]
  },
  {
   "cell_type": "markdown",
   "metadata": {},
   "source": [
    "# 파일에서 사용자 정의 데이터셋 만들기\n",
    "\n",
    "사용자 정의 Dataset 클래스는 반드시 3개 함수를 구현해야 한다.\n",
    "\n",
    "1. __init__\n",
    "2. __len__\n",
    "3. __getitem__\n",
    "\n"
   ]
  },
  {
   "cell_type": "code",
   "execution_count": 11,
   "metadata": {},
   "outputs": [],
   "source": [
    "import os\n",
    "import pandas as pd\n",
    "from torchvision.io import read_image\n",
    "\n",
    "class CustomImageDataset(Dataset):\n",
    "    def __init__(self, annotation_file, img_dir, transform=None, target_transform=None):\n",
    "        self.img_labels = pd.read_csv(annotation_file)\n",
    "        self.img_dir = img_dir\n",
    "        self.transform = transform\n",
    "        self.target_transform = target_transform\n",
    "\n",
    "    def __len__(self, idx): # sample data length\n",
    "        return len(self.img_labels)\n",
    "\n",
    "    def __getitem__(self, idx): # idx에 맞는 데이터 불러오기\n",
    "        img_path = os.path.join(self.img_dir, self.img_label.iloc[idx,0])\n",
    "        image = read_image(img_path) # tensor로 변환 \n",
    "        label = self.img_labels.iloc[idx,1] \n",
    "        \n",
    "        # 텐서와 라벨을 dict 형태로 변환 \n",
    "        if self.transform:\n",
    "            image = self.transform(image)\n",
    "        if self.target_transform:\n",
    "            label = self.target_transform(label)\n",
    "\n",
    "        return image, label"
   ]
  },
  {
   "cell_type": "markdown",
   "metadata": {},
   "source": [
    "# DataLoader로 학습용 데이터 준비\n",
    "Dataset은 데이터의 feature를 가져오고 하나의 샘플에 label을 지정하는 일을 한 번에 한다.\n",
    "\n",
    "모델을 학습할 때, 일반적으로 샘플들을 미니배치로 전달하고 매 에폭마다 데이터를 다시 섞어 과적합을 막고, 파이썬의 multiprocessing을 사용하여 데이터 검색 속도를 높이려고 한다.\n",
    "\n",
    "DataLoader는 간단한 API로 이러한 복잡한 과정들을 추상화한 순회 가능한 iterable(객체)이다."
   ]
  },
  {
   "cell_type": "code",
   "execution_count": 12,
   "metadata": {},
   "outputs": [],
   "source": [
    "from torch.utils.data import DataLoader\n",
    "\n",
    "train_dataloader = DataLoader(training_data, batch_size=64, shuffle=True)\n",
    "test_dataloader = DataLoader(test_data, batch_size=64, shuffle=True)\n"
   ]
  },
  {
   "cell_type": "markdown",
   "metadata": {},
   "source": [
    "# DataLoader를 통회 순회(iterate)\n",
    "\n",
    "DataLoader에 데이터셋을 불러온 뒤 필요에 따라 iterate 할 수 있다.\n",
    "\n",
    "아래의 각 iteration은 train_features와 train_label의 batch를 반환\n"
   ]
  },
  {
   "cell_type": "code",
   "execution_count": 20,
   "metadata": {},
   "outputs": [
    {
     "name": "stdout",
     "output_type": "stream",
     "text": [
      "Feature batch shape\n",
      "torch.Size([64, 1, 28, 28])\n",
      "Labels batch size\n",
      "torch.Size([64])\n"
     ]
    },
    {
     "data": {
      "image/png": "[encoded data removed]",
      "text/plain": [
       "<Figure size 432x288 with 1 Axes>"
      ]
     },
     "metadata": {
      "needs_background": "light"
     },
     "output_type": "display_data"
    },
    {
     "name": "stdout",
     "output_type": "stream",
     "text": [
      "6\n"
     ]
    }
   ],
   "source": [
    "train_features, train_labels = next(iter(train_dataloader))\n",
    "print(\"Feature batch shape\")\n",
    "print(train_features.size())\n",
    "print(\"Labels batch size\")\n",
    "print(train_labels.size())\n",
    "\n",
    "img = train_features[0].squeeze()\n",
    "label = train_labels[0]\n",
    "\n",
    "plt.imshow(img, cmap=\"gray\")\n",
    "plt.show()\n",
    "print(label.item())\n"
   ]
  },
  {
   "cell_type": "markdown",
   "metadata": {},
   "source": [
    "# Transform 변형\n",
    "\n",
    "Transform을 통해 데이터를 학습에 적합하게 처리한다.\n",
    "\n",
    "모든 torchvision 데이터셋들은 변형 로직을 갖는, 호출 가능한 객체(callable)를 받는 매개변수 두개(feature를 변형하기 위한 transform, label을 변형하기 위한 target_transform)를 갖는다.\n",
    "\n",
    "torchvision.transforms 모듈은 주로 사용하는 몇 가지 transform을 제공한다."
   ]
  },
  {
   "cell_type": "code",
   "execution_count": null,
   "metadata": {},
   "outputs": [
    {
     "data": {
      "text/plain": [
       "'\\nToTensor()\\nPIL image나 numpy ndarry를 floattensor로 변환하고\\n이미지의 픽셀 크기0~1 범위로 비례하여 조정 (scale)\\n\\nLambda 변형\\n사용자 정의 lambda 함수를 적용한다.\\n여기서 정수를 one-hot으로 부호화된 텐서로 바꾸는 함수 정의\\n\\n이 함수는 먼저 데이터셋 정답의 개수 크기 10짜리 zero tensor를 만들고,\\nscatter_를 호출하여 주어진 정답 y에 해당하는 인덱스에 value=1을 할당한다.\\n\\n\\n\\n'"
      ]
     },
     "metadata": {},
     "output_type": "display_data"
    }
   ],
   "source": [
    "import torch\n",
    "from torchvision import datasets\n",
    "from torchvision.transforms import ToTensor, Lambda\n",
    "\n",
    "ds = datasets.FashionMNIST(\n",
    "    root='data', train=True, download=True, transform=ToTensor(),\n",
    "    target_transform=Lambda(\n",
    "        lambda y:torch.zeros(10, dtype=torch.float).scatter_(0, torch.tensor(y), value=1))\n",
    ")\n",
    "\"\"\"\n",
    "ToTensor()\n",
    "PIL image나 numpy ndarry를 floattensor로 변환하고\n",
    "이미지의 픽셀 크기0~1 범위로 비례하여 조정 (scale)\n",
    "\n",
    "Lambda 변형\n",
    "사용자 정의 lambda 함수를 적용한다.\n",
    "여기서 정수를 one-hot으로 부호화된 텐서로 바꾸는 함수 정의\n",
    "\n",
    "이 함수는 먼저 데이터셋 정답의 개수 크기 10짜리 zero tensor를 만들고,\n",
    "scatter_를 호출하여 주어진 정답 y에 해당하는 인덱스에 value=1을 할당한다.\n",
    "\n",
    "\n",
    "\n",
    "\"\"\"\n",
    "\n"
   ]
  },
  {
   "cell_type": "code",
   "execution_count": null,
   "metadata": {},
   "outputs": [],
   "source": [
    "target_transform = Lambda(lambda y:torch.zeros(\n",
    "    10, dtype=torch.float).scatter_(dim=0, index=torch.tensor(y), value=1))"
   ]
  },
  {
   "cell_type": "code",
   "execution_count": null,
   "metadata": {},
   "outputs": [
    {
     "data": {
      "text/plain": [
       "Lambda()"
      ]
     },
     "metadata": {},
     "output_type": "display_data"
    }
   ],
   "source": [
    "target_transform"
   ]
  },
  {
   "cell_type": "code",
   "execution_count": null,
   "metadata": {},
   "outputs": [],
   "source": []
  }
 ],
 "metadata": {
  "interpreter": {
   "hash": "cd7d8ae84c30c9b148779bedbfd4b6b894c49078e9fff681c5971088fae95644"
  },
  "kernelspec": {
   "display_name": "Python 3.7.11 64-bit ('torch': conda)",
   "name": "python3"
  },
  "language_info": {
   "codemirror_mode": {
    "name": "ipython",
    "version": 3
   },
   "file_extension": ".py",
   "mimetype": "text/x-python",
   "name": "python",
   "nbconvert_exporter": "python",
   "pygments_lexer": "ipython3",
   "version": "3.7.11"
  },
  "orig_nbformat": 4
 },
 "nbformat": 4,
 "nbformat_minor": 2
}
