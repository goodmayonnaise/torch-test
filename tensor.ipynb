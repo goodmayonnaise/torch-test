{
 "cells": [
  {
   "cell_type": "markdown",
   "source": [
    "# Tensor"
   ],
   "metadata": {}
  },
  {
   "cell_type": "code",
   "execution_count": 1,
   "source": [
    "\"\"\"\r\n",
    "tensor는 array나 matrix와 매우 유사한 특수 자료구조\r\n",
    "pytorch에서는 텐서를 사용하여 모델의 입력과 출력\r\n",
    "그리고 모델의 매개변수들을 모두 부호화(encode)한다.\r\n",
    "\r\n",
    "텐서는 GPU나 다른 하드웨어 가속기에서 실행할 수 있다는 점만 제외하면\r\n",
    "넘파이의 ndarray와 유사하다.\r\n",
    "실제로 텐서와 넘파이 배열은 종종 동일한 내부(underly) 메모리를 공유할 수 있어,\r\n",
    "데이터를 복수할 필요가 없다.\r\n",
    "\r\n",
    "텐서는 또한 자동 미분에 최적화되어 있다.\r\n",
    "ndarray에 익숙하다면 TensorAPI를 바로 사용할 수 있다.\r\n",
    "\"\"\"\r\n",
    "import torch\r\n",
    "import numpy as np"
   ],
   "outputs": [],
   "metadata": {}
  },
  {
   "cell_type": "markdown",
   "source": [
    "# 텐서 초기화"
   ],
   "metadata": {}
  },
  {
   "cell_type": "code",
   "execution_count": 3,
   "source": [
    "\"\"\"\r\n",
    "텐서는 여러가지 방법으로 초기화할 수 있다.\r\n",
    "\"\"\"\r\n",
    "\r\n",
    "# 데이터로부터 직접 생성하기\r\n",
    "# 데이터의 자료형은 자동으로 유추한다.\r\n",
    "data = [[1,2],[3,4]]\r\n",
    "x_data = torch.tensor(data)\r\n",
    "x_data"
   ],
   "outputs": [
    {
     "output_type": "execute_result",
     "data": {
      "text/plain": [
       "tensor([[1, 2],\n",
       "        [3, 4]])"
      ]
     },
     "metadata": {},
     "execution_count": 3
    }
   ],
   "metadata": {}
  },
  {
   "cell_type": "code",
   "execution_count": 6,
   "source": [
    "# 넘파이 배열로부터 생성하기\r\n",
    "np_array = np.array(data)\r\n",
    "x_np = torch.from_numpy(np_array)\r\n",
    "x_np\r\n",
    "# np_array"
   ],
   "outputs": [
    {
     "output_type": "execute_result",
     "data": {
      "text/plain": [
       "tensor([[1, 2],\n",
       "        [3, 4]], dtype=torch.int32)"
      ]
     },
     "metadata": {},
     "execution_count": 6
    }
   ],
   "metadata": {}
  },
  {
   "cell_type": "code",
   "execution_count": 8,
   "source": [
    "# 다른 텐서로부터 생성하기\r\n",
    "# 명시적으로 재정의(override)하지 않는다면, \r\n",
    "# 인자로 주어진 텐서의 속성(shape, datatype)을 유지한다.\r\n",
    "\r\n",
    "x_ones = torch.ones_like(x_data) # x_data 속성 override\r\n",
    "print(f\"Ones Tensor: \\n {x_ones} \\n\")\r\n",
    "\r\n",
    "x_rand = torch.rand_like(x_data, dtype=torch.float) # x_data 속성 override\r\n",
    "print(f\"Random Tensor: \\n {x_rand} \\n\")\r\n"
   ],
   "outputs": [
    {
     "output_type": "stream",
     "name": "stdout",
     "text": [
      "Ones Tensor: \n",
      " tensor([[1, 1],\n",
      "        [1, 1]]) \n",
      "\n",
      "Random Tensor: \n",
      " tensor([[0.5080, 0.7004],\n",
      "        [0.5492, 0.7089]]) \n",
      "\n"
     ]
    }
   ],
   "metadata": {}
  },
  {
   "cell_type": "code",
   "execution_count": 11,
   "source": [
    "# 무작위 또는 상수값 사용\r\n",
    "# shape는 텐서의 차원을 나타내는 튜플로,\r\n",
    "# 아래의 함수들에서는 출력 텐서의 차원을 결정\r\n",
    "shape = (2,3,)\r\n",
    "rand_tensor = torch.rand(shape)\r\n",
    "ones_tensor = torch.ones(shape)\r\n",
    "zeros_tensor = torch.zeros(shape)\r\n",
    "\r\n",
    "print(f\"Random Tensor: \\n {rand_tensor} \\n\")\r\n",
    "print(f\"Ones Tensor : \\n {ones_tensor} \\n\")\r\n",
    "print(f\"Zeros Tensor :\\n {zeros_tensor} \\n\")\r\n"
   ],
   "outputs": [
    {
     "output_type": "stream",
     "name": "stdout",
     "text": [
      "Random Tensor: \n",
      " tensor([[0.5569, 0.0729, 0.3661],\n",
      "        [0.0425, 0.6927, 0.3146]]) \n",
      "\n",
      "Ones Tensor : \n",
      " tensor([[1., 1., 1.],\n",
      "        [1., 1., 1.]]) \n",
      "\n",
      "Zeros Tensor :\n",
      " tensor([[0., 0., 0.],\n",
      "        [0., 0., 0.]]) \n",
      "\n"
     ]
    }
   ],
   "metadata": {}
  },
  {
   "cell_type": "markdown",
   "source": [
    "# 텐서의 속성(Attribute)"
   ],
   "metadata": {}
  },
  {
   "cell_type": "code",
   "execution_count": 12,
   "source": [
    "\"\"\"\r\n",
    "텐서의 속성은 텐서의 모양, 자료형 및 어느 장치에 저장되는지를 나타낸다.\r\n",
    "\"\"\"\r\n",
    "tensor = torch.rand(3,4)\r\n",
    "\r\n",
    "print(f\"shape of tensor: {tensor.shape}\")\r\n",
    "print(f\"Datatype of tensor : {tensor.dtype}\")\r\n",
    "print(f\"Device tensor is stored on: {tensor.device}\")\r\n"
   ],
   "outputs": [
    {
     "output_type": "stream",
     "name": "stdout",
     "text": [
      "shape of tensor: torch.Size([3, 4])\n",
      "Datatype of tensor : torch.float32\n",
      "Device tensor is stored on: cpu\n"
     ]
    }
   ],
   "metadata": {}
  },
  {
   "cell_type": "markdown",
   "source": [
    "# 텐서 연산(operation)"
   ],
   "metadata": {}
  },
  {
   "cell_type": "code",
   "execution_count": 13,
   "source": [
    "\"\"\"\r\n",
    "전치(transposing), 인덱싱(indexing), 슬라이싱(slicing), 수학 계산,\r\n",
    "선형대수, 랜덤 샘플링 등, 100가지 이상의 텐서 연산\r\n",
    "\r\n",
    "각 연산들은 gpu에서 실행할 수 있음\r\n",
    "기본적으로 텐서는 cpu에 생성됨.\r\n",
    "gpu 가용성을 확인한 뒤 .to 메소드를 사용하면 \r\n",
    "gpu로 텐서를 명시적으로 이동할 수 있음\r\n",
    "\r\n",
    "장치들 간에 큰 텐서들을 복사하는 것은 시간과 메모리 측면에서\r\n",
    "비용이 많이든다는 것을 명심\r\n",
    "\"\"\"\r\n",
    "\r\n",
    "# gpu가 존재하면 텐서를 이동한다.\r\n",
    "if torch.cuda.is_available():\r\n",
    "    tensor = tensor.to('cuda')"
   ],
   "outputs": [],
   "metadata": {}
  },
  {
   "cell_type": "code",
   "execution_count": 16,
   "source": [
    "# numpy식의 표준 인덱싱과 슬라이싱\r\n",
    "tensor = torch.ones(4,4)\r\n",
    "print('Fist row', tensor[0])\r\n",
    "print('First column', tensor[:, 0])\r\n",
    "print('last column', tensor[..., -1])\r\n",
    "tensor[:,1] = 0\r\n",
    "print(tensor)\r\n"
   ],
   "outputs": [
    {
     "output_type": "stream",
     "name": "stdout",
     "text": [
      "Fist row tensor([1., 1., 1., 1.])\n",
      "First column tensor([1., 1., 1., 1.])\n",
      "last column tensor([1., 1., 1., 1.])\n",
      "tensor([[1., 0., 1., 1.],\n",
      "        [1., 0., 1., 1.],\n",
      "        [1., 0., 1., 1.],\n",
      "        [1., 0., 1., 1.]])\n"
     ]
    }
   ],
   "metadata": {}
  },
  {
   "cell_type": "code",
   "execution_count": 18,
   "source": [
    "# 텐서 합치기\r\n",
    "# torch.cat을 사용하여 주어진 차원에 따라 일련의 텐서를 연결할 수 있음\r\n",
    "# torch.cat과 미묘하게 다른 또 다른 텐서 결합인 torch.stack도 참고\r\n",
    "t1 = torch.cat([tensor, tensor, tensor], dim=1)\r\n",
    "print(t1) # 가로로 붙인 결과 출력"
   ],
   "outputs": [
    {
     "output_type": "stream",
     "name": "stdout",
     "text": [
      "tensor([[1., 0., 1., 1., 1., 0., 1., 1., 1., 0., 1., 1.],\n",
      "        [1., 0., 1., 1., 1., 0., 1., 1., 1., 0., 1., 1.],\n",
      "        [1., 0., 1., 1., 1., 0., 1., 1., 1., 0., 1., 1.],\n",
      "        [1., 0., 1., 1., 1., 0., 1., 1., 1., 0., 1., 1.]])\n"
     ]
    }
   ],
   "metadata": {}
  },
  {
   "cell_type": "code",
   "execution_count": null,
   "source": [
    "# 산술 연산 Arithmetic operations\r\n",
    "\r\n",
    "#"
   ],
   "outputs": [],
   "metadata": {}
  },
  {
   "cell_type": "code",
   "execution_count": null,
   "source": [],
   "outputs": [],
   "metadata": {}
  },
  {
   "cell_type": "code",
   "execution_count": null,
   "source": [],
   "outputs": [],
   "metadata": {}
  },
  {
   "cell_type": "code",
   "execution_count": null,
   "source": [],
   "outputs": [],
   "metadata": {}
  },
  {
   "cell_type": "code",
   "execution_count": null,
   "source": [],
   "outputs": [],
   "metadata": {}
  },
  {
   "cell_type": "code",
   "execution_count": null,
   "source": [],
   "outputs": [],
   "metadata": {}
  },
  {
   "cell_type": "code",
   "execution_count": null,
   "source": [],
   "outputs": [],
   "metadata": {}
  },
  {
   "cell_type": "code",
   "execution_count": null,
   "source": [],
   "outputs": [],
   "metadata": {}
  },
  {
   "cell_type": "code",
   "execution_count": null,
   "source": [],
   "outputs": [],
   "metadata": {}
  },
  {
   "cell_type": "code",
   "execution_count": null,
   "source": [],
   "outputs": [],
   "metadata": {}
  },
  {
   "cell_type": "code",
   "execution_count": null,
   "source": [],
   "outputs": [],
   "metadata": {}
  },
  {
   "cell_type": "code",
   "execution_count": null,
   "source": [],
   "outputs": [],
   "metadata": {}
  },
  {
   "cell_type": "code",
   "execution_count": null,
   "source": [],
   "outputs": [],
   "metadata": {}
  },
  {
   "cell_type": "code",
   "execution_count": null,
   "source": [],
   "outputs": [],
   "metadata": {}
  },
  {
   "cell_type": "code",
   "execution_count": null,
   "source": [],
   "outputs": [],
   "metadata": {}
  },
  {
   "cell_type": "code",
   "execution_count": null,
   "source": [],
   "outputs": [],
   "metadata": {}
  },
  {
   "cell_type": "code",
   "execution_count": null,
   "source": [],
   "outputs": [],
   "metadata": {}
  },
  {
   "cell_type": "code",
   "execution_count": null,
   "source": [],
   "outputs": [],
   "metadata": {}
  },
  {
   "cell_type": "code",
   "execution_count": null,
   "source": [],
   "outputs": [],
   "metadata": {}
  },
  {
   "cell_type": "code",
   "execution_count": null,
   "source": [],
   "outputs": [],
   "metadata": {}
  },
  {
   "cell_type": "code",
   "execution_count": null,
   "source": [],
   "outputs": [],
   "metadata": {}
  },
  {
   "cell_type": "code",
   "execution_count": null,
   "source": [],
   "outputs": [],
   "metadata": {}
  },
  {
   "cell_type": "code",
   "execution_count": null,
   "source": [],
   "outputs": [],
   "metadata": {}
  },
  {
   "cell_type": "code",
   "execution_count": null,
   "source": [],
   "outputs": [],
   "metadata": {}
  },
  {
   "cell_type": "code",
   "execution_count": null,
   "source": [],
   "outputs": [],
   "metadata": {}
  },
  {
   "cell_type": "code",
   "execution_count": null,
   "source": [],
   "outputs": [],
   "metadata": {}
  },
  {
   "cell_type": "code",
   "execution_count": null,
   "source": [],
   "outputs": [],
   "metadata": {}
  },
  {
   "cell_type": "code",
   "execution_count": null,
   "source": [],
   "outputs": [],
   "metadata": {}
  },
  {
   "cell_type": "code",
   "execution_count": null,
   "source": [],
   "outputs": [],
   "metadata": {}
  },
  {
   "cell_type": "code",
   "execution_count": null,
   "source": [],
   "outputs": [],
   "metadata": {}
  },
  {
   "cell_type": "code",
   "execution_count": null,
   "source": [],
   "outputs": [],
   "metadata": {}
  },
  {
   "cell_type": "code",
   "execution_count": null,
   "source": [],
   "outputs": [],
   "metadata": {}
  },
  {
   "cell_type": "code",
   "execution_count": null,
   "source": [],
   "outputs": [],
   "metadata": {}
  },
  {
   "cell_type": "code",
   "execution_count": null,
   "source": [],
   "outputs": [],
   "metadata": {}
  },
  {
   "cell_type": "code",
   "execution_count": null,
   "source": [],
   "outputs": [],
   "metadata": {}
  },
  {
   "cell_type": "code",
   "execution_count": null,
   "source": [],
   "outputs": [],
   "metadata": {}
  },
  {
   "cell_type": "code",
   "execution_count": null,
   "source": [],
   "outputs": [],
   "metadata": {}
  }
 ],
 "metadata": {
  "orig_nbformat": 4,
  "language_info": {
   "name": "python",
   "version": "3.7.11",
   "mimetype": "text/x-python",
   "codemirror_mode": {
    "name": "ipython",
    "version": 3
   },
   "pygments_lexer": "ipython3",
   "nbconvert_exporter": "python",
   "file_extension": ".py"
  },
  "kernelspec": {
   "name": "python3",
   "display_name": "Python 3.7.11 64-bit ('torch': conda)"
  },
  "interpreter": {
   "hash": "cd7d8ae84c30c9b148779bedbfd4b6b894c49078e9fff681c5971088fae95644"
  }
 },
 "nbformat": 4,
 "nbformat_minor": 2
}