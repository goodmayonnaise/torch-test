{
 "cells": [
  {
   "cell_type": "markdown",
   "metadata": {},
   "source": [
    "# Tensor"
   ]
  },
  {
   "cell_type": "code",
   "execution_count": 5,
   "metadata": {},
   "outputs": [],
   "source": [
    "\"\"\"\n",
    "tensor는 array나 matrix와 매우 유사한 특수 자료구조\n",
    "pytorch에서는 텐서를 사용하여 모델의 입력과 출력\n",
    "그리고 모델의 매개변수들을 모두 부호화(encode)한다.\n",
    "\n",
    "텐서는 GPU나 다른 하드웨어 가속기에서 실행할 수 있다는 점만 제외하면\n",
    "넘파이의 ndarray와 유사하다.\n",
    "실제로 텐서와 넘파이 배열은 종종 동일한 내부(underly) 메모리를 공유할 수 있어,\n",
    "데이터를 복수할 필요가 없다.\n",
    "\n",
    "텐서는 또한 자동 미분에 최적화되어 있다.\n",
    "ndarray에 익숙하다면 TensorAPI를 바로 사용할 수 있다.\n",
    "\"\"\"\n",
    "import torch\n",
    "import numpy as np"
   ]
  },
  {
   "cell_type": "markdown",
   "metadata": {},
   "source": [
    "# 텐서 초기화"
   ]
  },
  {
   "cell_type": "code",
   "execution_count": 6,
   "metadata": {},
   "outputs": [
    {
     "data": {
      "text/plain": [
       "tensor([[1, 2],\n",
       "        [3, 4]])"
      ]
     },
     "execution_count": 6,
     "metadata": {},
     "output_type": "execute_result"
    }
   ],
   "source": [
    "\"\"\"\n",
    "텐서는 여러가지 방법으로 초기화할 수 있다.\n",
    "\"\"\"\n",
    "\n",
    "# 데이터로부터 직접 생성하기\n",
    "# 데이터의 자료형은 자동으로 유추한다.\n",
    "data = [[1,2],[3,4]]\n",
    "x_data = torch.tensor(data)\n",
    "x_data\n"
   ]
  },
  {
   "cell_type": "code",
   "execution_count": 8,
   "metadata": {},
   "outputs": [
    {
     "name": "stdout",
     "output_type": "stream",
     "text": [
      "[[1 2]\n",
      " [3 4]]\n",
      "tensor([[1, 2],\n",
      "        [3, 4]], dtype=torch.int32)\n"
     ]
    }
   ],
   "source": [
    "import numpy as np\n",
    "# 넘파이 배열로부터 생성하기\n",
    "np_array = np.array(data)\n",
    "x_np = torch.from_numpy(np_array)\n",
    "# x_np\n",
    "print(np_array)\n",
    "print(x_np)"
   ]
  },
  {
   "cell_type": "code",
   "execution_count": 8,
   "metadata": {},
   "outputs": [
    {
     "name": "stdout",
     "output_type": "stream",
     "text": [
      "Ones Tensor: \n",
      " tensor([[1, 1],\n",
      "        [1, 1]]) \n",
      "\n",
      "Random Tensor: \n",
      " tensor([[0.5080, 0.7004],\n",
      "        [0.5492, 0.7089]]) \n",
      "\n"
     ]
    }
   ],
   "source": [
    "# 다른 텐서로부터 생성하기\n",
    "# 명시적으로 재정의(override)하지 않는다면, \n",
    "# 인자로 주어진 텐서의 속성(shape, datatype)을 유지한다.\n",
    "\n",
    "x_ones = torch.ones_like(x_data) # x_data 속성 override\n",
    "print(f\"Ones Tensor: \\n {x_ones} \\n\")\n",
    "\n",
    "x_rand = torch.rand_like(x_data, dtype=torch.float) # x_data 속성 override\n",
    "print(f\"Random Tensor: \\n {x_rand} \\n\")\n"
   ]
  },
  {
   "cell_type": "code",
   "execution_count": 11,
   "metadata": {},
   "outputs": [
    {
     "name": "stdout",
     "output_type": "stream",
     "text": [
      "Random Tensor: \n",
      " tensor([[0.5569, 0.0729, 0.3661],\n",
      "        [0.0425, 0.6927, 0.3146]]) \n",
      "\n",
      "Ones Tensor : \n",
      " tensor([[1., 1., 1.],\n",
      "        [1., 1., 1.]]) \n",
      "\n",
      "Zeros Tensor :\n",
      " tensor([[0., 0., 0.],\n",
      "        [0., 0., 0.]]) \n",
      "\n"
     ]
    }
   ],
   "source": [
    "# 무작위 또는 상수값 사용\n",
    "# shape는 텐서의 차원을 나타내는 튜플로,\n",
    "# 아래의 함수들에서는 출력 텐서의 차원을 결정\n",
    "shape = (2,3,)\n",
    "rand_tensor = torch.rand(shape)\n",
    "ones_tensor = torch.ones(shape)\n",
    "zeros_tensor = torch.zeros(shape)\n",
    "\n",
    "print(f\"Random Tensor: \\n {rand_tensor} \\n\")\n",
    "print(f\"Ones Tensor : \\n {ones_tensor} \\n\")\n",
    "print(f\"Zeros Tensor :\\n {zeros_tensor} \\n\")\n"
   ]
  },
  {
   "cell_type": "markdown",
   "metadata": {},
   "source": [
    "# 텐서의 속성(Attribute)"
   ]
  },
  {
   "cell_type": "code",
   "execution_count": 12,
   "metadata": {},
   "outputs": [
    {
     "name": "stdout",
     "output_type": "stream",
     "text": [
      "shape of tensor: torch.Size([3, 4])\n",
      "Datatype of tensor : torch.float32\n",
      "Device tensor is stored on: cpu\n"
     ]
    }
   ],
   "source": [
    "\"\"\"\n",
    "텐서의 속성은 텐서의 모양, 자료형 및 어느 장치에 저장되는지를 나타낸다.\n",
    "\"\"\"\n",
    "tensor = torch.rand(3,4)\n",
    "\n",
    "print(f\"shape of tensor: {tensor.shape}\")\n",
    "print(f\"Datatype of tensor : {tensor.dtype}\")\n",
    "print(f\"Device tensor is stored on: {tensor.device}\")\n"
   ]
  },
  {
   "cell_type": "markdown",
   "metadata": {},
   "source": [
    "# 텐서 연산(operation)"
   ]
  },
  {
   "cell_type": "code",
   "execution_count": 13,
   "metadata": {},
   "outputs": [],
   "source": [
    "\"\"\"\n",
    "전치(transposing), 인덱싱(indexing), 슬라이싱(slicing), 수학 계산,\n",
    "선형대수, 랜덤 샘플링 등, 100가지 이상의 텐서 연산\n",
    "\n",
    "각 연산들은 gpu에서 실행할 수 있음\n",
    "기본적으로 텐서는 cpu에 생성됨.\n",
    "gpu 가용성을 확인한 뒤 .to 메소드를 사용하면 \n",
    "gpu로 텐서를 명시적으로 이동할 수 있음\n",
    "\n",
    "장치들 간에 큰 텐서들을 복사하는 것은 시간과 메모리 측면에서\n",
    "비용이 많이든다는 것을 명심\n",
    "\"\"\"\n",
    "\n",
    "# gpu가 존재하면 텐서를 이동한다.\n",
    "if torch.cuda.is_available():\n",
    "    tensor = tensor.to('cuda')"
   ]
  },
  {
   "cell_type": "code",
   "execution_count": 9,
   "metadata": {},
   "outputs": [
    {
     "name": "stdout",
     "output_type": "stream",
     "text": [
      "Fist row tensor([0.9738, 0.4507, 0.8900, 0.6536])\n",
      "First column tensor([0.9738, 0.8660, 0.4951, 0.7895])\n",
      "last column tensor([0.6536, 0.8252, 0.3392, 0.3372])\n",
      "tensor([[0.9738, 0.0000, 0.8900, 0.6536],\n",
      "        [0.8660, 0.0000, 0.4515, 0.8252],\n",
      "        [0.4951, 0.0000, 0.2855, 0.3392],\n",
      "        [0.7895, 0.0000, 0.7085, 0.3372]])\n"
     ]
    }
   ],
   "source": [
    "# numpy식의 표준 인덱싱과 슬라이싱\n",
    "tensor = torch.rand(4,4)\n",
    "print('Fist row', tensor[0])\n",
    "print('First column', tensor[:, 0])\n",
    "print('last column', tensor[..., -1])\n",
    "tensor[:,1] = 0\n",
    "print(tensor)\n"
   ]
  },
  {
   "cell_type": "code",
   "execution_count": 10,
   "metadata": {},
   "outputs": [
    {
     "name": "stdout",
     "output_type": "stream",
     "text": [
      "tensor([[0.9738, 0.0000, 0.8900, 0.6536, 0.9738, 0.0000, 0.8900, 0.6536, 0.9738,\n",
      "         0.0000, 0.8900, 0.6536],\n",
      "        [0.8660, 0.0000, 0.4515, 0.8252, 0.8660, 0.0000, 0.4515, 0.8252, 0.8660,\n",
      "         0.0000, 0.4515, 0.8252],\n",
      "        [0.4951, 0.0000, 0.2855, 0.3392, 0.4951, 0.0000, 0.2855, 0.3392, 0.4951,\n",
      "         0.0000, 0.2855, 0.3392],\n",
      "        [0.7895, 0.0000, 0.7085, 0.3372, 0.7895, 0.0000, 0.7085, 0.3372, 0.7895,\n",
      "         0.0000, 0.7085, 0.3372]])\n"
     ]
    }
   ],
   "source": [
    "# 텐서 합치기\n",
    "# torch.cat을 사용하여 주어진 차원에 따라 일련의 텐서를 연결할 수 있음\n",
    "# torch.cat과 미묘하게 다른 또 다른 텐서 결합인 torch.stack도 참고\n",
    "t1 = torch.cat([tensor, tensor, tensor], dim=1)\n",
    "print(t1) # 가로로 붙인 결과 출력"
   ]
  },
  {
   "cell_type": "code",
   "execution_count": 12,
   "metadata": {},
   "outputs": [
    {
     "name": "stdout",
     "output_type": "stream",
     "text": [
      "tensor([[2.1677, 1.7845, 0.9580, 1.6199],\n",
      "        [1.7845, 1.6347, 0.8376, 1.2819],\n",
      "        [0.9580, 0.8376, 0.4418, 0.7076],\n",
      "        [1.6199, 1.2819, 0.7076, 1.2391]])\n",
      "tensor([[0.9483, 0.0000, 0.7921, 0.4272],\n",
      "        [0.7500, 0.0000, 0.2039, 0.6809],\n",
      "        [0.2452, 0.0000, 0.0815, 0.1151],\n",
      "        [0.6234, 0.0000, 0.5020, 0.1137]])\n"
     ]
    }
   ],
   "source": [
    "# 산술 연산 Arithmetic operations\n",
    "\n",
    "# 두 텐서 간의 행렬 곱(matrix multiplication) 계산\n",
    "# y1, y2, y3은 모두 같은 값을 갖는다\n",
    "\n",
    "y1 = tensor @ tensor.T\n",
    "y2 = tensor.matmul(tensor.T)\n",
    "y3 = torch.rand_like(tensor)\n",
    "print(torch.matmul(tensor, tensor.T, out=y3))\n",
    "\n",
    "# 요소별 곱(element-wise product)을 계산\n",
    "# z1, z2, z3은 모두 같은 값\n",
    "z1 = tensor * tensor`\n",
    "z2 = tensor.mul(tensor)\n",
    "\n",
    "z3 = torch.rand_like(tensor)\n",
    "\n",
    "print(torch.mul(tensor, tensor, out=z3))\n",
    "\n",
    "\n"
   ]
  },
  {
   "cell_type": "code",
   "execution_count": null,
   "metadata": {},
   "outputs": [],
   "source": []
  },
  {
   "cell_type": "code",
   "execution_count": null,
   "metadata": {},
   "outputs": [],
   "source": []
  },
  {
   "cell_type": "code",
   "execution_count": null,
   "metadata": {},
   "outputs": [],
   "source": []
  },
  {
   "cell_type": "code",
   "execution_count": null,
   "metadata": {},
   "outputs": [],
   "source": []
  },
  {
   "cell_type": "code",
   "execution_count": null,
   "metadata": {},
   "outputs": [],
   "source": []
  },
  {
   "cell_type": "code",
   "execution_count": null,
   "metadata": {},
   "outputs": [],
   "source": []
  },
  {
   "cell_type": "code",
   "execution_count": null,
   "metadata": {},
   "outputs": [],
   "source": []
  },
  {
   "cell_type": "code",
   "execution_count": null,
   "metadata": {},
   "outputs": [],
   "source": []
  },
  {
   "cell_type": "code",
   "execution_count": null,
   "metadata": {},
   "outputs": [],
   "source": []
  },
  {
   "cell_type": "code",
   "execution_count": null,
   "metadata": {},
   "outputs": [],
   "source": []
  },
  {
   "cell_type": "code",
   "execution_count": null,
   "metadata": {},
   "outputs": [],
   "source": []
  },
  {
   "cell_type": "code",
   "execution_count": null,
   "metadata": {},
   "outputs": [],
   "source": []
  },
  {
   "cell_type": "code",
   "execution_count": null,
   "metadata": {},
   "outputs": [],
   "source": []
  },
  {
   "cell_type": "code",
   "execution_count": null,
   "metadata": {},
   "outputs": [],
   "source": []
  },
  {
   "cell_type": "code",
   "execution_count": null,
   "metadata": {},
   "outputs": [],
   "source": []
  },
  {
   "cell_type": "code",
   "execution_count": null,
   "metadata": {},
   "outputs": [],
   "source": []
  },
  {
   "cell_type": "code",
   "execution_count": null,
   "metadata": {},
   "outputs": [],
   "source": []
  },
  {
   "cell_type": "code",
   "execution_count": null,
   "metadata": {},
   "outputs": [],
   "source": []
  },
  {
   "cell_type": "code",
   "execution_count": null,
   "metadata": {},
   "outputs": [],
   "source": []
  },
  {
   "cell_type": "code",
   "execution_count": null,
   "metadata": {},
   "outputs": [],
   "source": []
  },
  {
   "cell_type": "code",
   "execution_count": null,
   "metadata": {},
   "outputs": [],
   "source": []
  },
  {
   "cell_type": "code",
   "execution_count": null,
   "metadata": {},
   "outputs": [],
   "source": []
  },
  {
   "cell_type": "code",
   "execution_count": null,
   "metadata": {},
   "outputs": [],
   "source": []
  },
  {
   "cell_type": "code",
   "execution_count": null,
   "metadata": {},
   "outputs": [],
   "source": []
  },
  {
   "cell_type": "code",
   "execution_count": null,
   "metadata": {},
   "outputs": [],
   "source": []
  },
  {
   "cell_type": "code",
   "execution_count": null,
   "metadata": {},
   "outputs": [],
   "source": []
  },
  {
   "cell_type": "code",
   "execution_count": null,
   "metadata": {},
   "outputs": [],
   "source": []
  },
  {
   "cell_type": "code",
   "execution_count": null,
   "metadata": {},
   "outputs": [],
   "source": []
  },
  {
   "cell_type": "code",
   "execution_count": null,
   "metadata": {},
   "outputs": [],
   "source": []
  },
  {
   "cell_type": "code",
   "execution_count": null,
   "metadata": {},
   "outputs": [],
   "source": []
  },
  {
   "cell_type": "code",
   "execution_count": null,
   "metadata": {},
   "outputs": [],
   "source": []
  },
  {
   "cell_type": "code",
   "execution_count": null,
   "metadata": {},
   "outputs": [],
   "source": []
  },
  {
   "cell_type": "code",
   "execution_count": null,
   "metadata": {},
   "outputs": [],
   "source": []
  },
  {
   "cell_type": "code",
   "execution_count": null,
   "metadata": {},
   "outputs": [],
   "source": []
  },
  {
   "cell_type": "code",
   "execution_count": null,
   "metadata": {},
   "outputs": [],
   "source": []
  },
  {
   "cell_type": "code",
   "execution_count": null,
   "metadata": {},
   "outputs": [],
   "source": []
  }
 ],
 "metadata": {
  "interpreter": {
   "hash": "cd7d8ae84c30c9b148779bedbfd4b6b894c49078e9fff681c5971088fae95644"
  },
  "kernelspec": {
   "display_name": "Python 3.7.11 64-bit ('torch': conda)",
   "name": "python3"
  },
  "language_info": {
   "codemirror_mode": {
    "name": "ipython",
    "version": 3
   },
   "file_extension": ".py",
   "mimetype": "text/x-python",
   "name": "python",
   "nbconvert_exporter": "python",
   "pygments_lexer": "ipython3",
   "version": "3.7.11"
  },
  "orig_nbformat": 4
 },
 "nbformat": 4,
 "nbformat_minor": 2
}
